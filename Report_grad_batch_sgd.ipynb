{
 "cells": [
  {
   "cell_type": "markdown",
   "metadata": {},
   "source": [
    "### バッチ勾配降下法"
   ]
  },
  {
   "cell_type": "markdown",
   "metadata": {},
   "source": [
    "目的関数を  \n",
    "$$\n",
    "    \\boldsymbol{J}(\\boldsymbol{w})=\\frac{1}{2}\\sum_i\\bigl(y^{(i)}-\\phi(z^{(i)})\\bigr)^2\n",
    "$$\n",
    "とすると計算すべき勾配は  \n",
    "$$\n",
    "    \\frac{\\partial\\boldsymbol{J}}{\\partial w_i} = - \\sum_i\\bigl(y^{(i)}-\\phi(z^{(i)})\\bigr)x_j^{(i)}\n",
    "$$"
   ]
  },
  {
   "cell_type": "markdown",
   "metadata": {},
   "source": [
    "### 時代背景\n",
    "SGD -> Momentum -> NAG -> AdaGrad -> RMSProp -> AdaDelta -> Adam"
   ]
  },
  {
   "cell_type": "markdown",
   "metadata": {},
   "source": [
    "### SGD(確率的勾配降下法)・・・関数最小化問題に適用していたアルゴリズム"
   ]
  },
  {
   "cell_type": "markdown",
   "metadata": {},
   "source": [
    "(バッチ)勾配降下法が，たった1回のパラメータ更新を行うのにも全データセットに対して勾配を求め，勾配を計算する必要があるので，処理速度が遅く，データがメモリに収まらない場合，パラメータ更新ができない。そこで，1サンプルごとにパラメータ更新を行うのがSGD"
   ]
  },
  {
   "cell_type": "markdown",
   "metadata": {},
   "source": [
    "$$\n",
    "    \\frac{\\partial\\boldsymbol{J}}{\\partial w_i} = - \\bigl(y^{(i)}-\\phi(z^{(i)})\\bigr)x_j^{(i)}\n",
    "$$"
   ]
  },
  {
   "cell_type": "markdown",
   "metadata": {},
   "source": [
    "未実装"
   ]
  },
  {
   "cell_type": "code",
   "execution_count": null,
   "metadata": {},
   "outputs": [],
   "source": []
  }
 ],
 "metadata": {
  "kernelspec": {
   "display_name": "Python 3",
   "language": "python",
   "name": "python3"
  },
  "language_info": {
   "codemirror_mode": {
    "name": "ipython",
    "version": 3
   },
   "file_extension": ".py",
   "mimetype": "text/x-python",
   "name": "python",
   "nbconvert_exporter": "python",
   "pygments_lexer": "ipython3",
   "version": "3.6.9"
  }
 },
 "nbformat": 4,
 "nbformat_minor": 2
}
