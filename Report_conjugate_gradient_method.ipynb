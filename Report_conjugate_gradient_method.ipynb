{
 "cells": [
  {
   "cell_type": "markdown",
   "metadata": {},
   "source": [
    "### (非線形)共役勾配降下法・・・非線形最適化、最小二乗法の解法"
   ]
  },
  {
   "cell_type": "markdown",
   "metadata": {},
   "source": [
    "2次近似等高線関数$f_{II}(\\boldsymbol{x})=0$について、通常の勾配降下法による直線探索を行う方向の延長線は、直線探索方向における関数の極値点から微妙にずれている(反復して直線探索をすれば極値点には達する)しかし、反復回数が増えてしまう。"
   ]
  },
  {
   "cell_type": "markdown",
   "metadata": {},
   "source": [
    "共役勾配$\\boldsymbol{m}$は,1ステップ前の点から等高線関数の極値点方向のベクトル(勾配ベクトルから微妙にずれてる)"
   ]
  },
  {
   "cell_type": "markdown",
   "metadata": {},
   "source": [
    "共役勾配は以下の関係を満たす\n",
    "$$\n",
    "    \\bar{H}_k \\boldsymbol{m}_k \\propto \\nabla \\bar{f}_k\n",
    "$$"
   ]
  },
  {
   "cell_type": "markdown",
   "metadata": {},
   "source": [
    "点$\\boldsymbol{x}_k$での等高線の接線ベクトルを$\\boldsymbol{t}_k$とすると、\n",
    "勾配$\\nabla\\bar{f}_k$と直行する"
   ]
  },
  {
   "cell_type": "markdown",
   "metadata": {},
   "source": [
    "$$\n",
    "\\boldsymbol{t}_k \\cdot \\bar{H}_k \\boldsymbol{m}_k = 0\n",
    "$$"
   ]
  },
  {
   "cell_type": "markdown",
   "metadata": {},
   "source": [
    "また、共役勾配は勾配ベクトルと接線ベクトル、ある定数を用いて表現できる"
   ]
  },
  {
   "cell_type": "markdown",
   "metadata": {},
   "source": [
    "$$\n",
    "\\boldsymbol{m}_k = \\nabla\\bar{f}_k + \\alpha_k \\boldsymbol{t}_k\\\\\n",
    "\\alpha_kはある定数\n",
    "$$"
   ]
  },
  {
   "cell_type": "markdown",
   "metadata": {},
   "source": [
    "$$\n",
    "    \\boldsymbol{t}_k \\cdot \\bar{H}_k (\\nabla\\bar{f}_k + \\alpha \\boldsymbol{t}_k) = 0\\\\\n",
    "$$"
   ]
  },
  {
   "cell_type": "markdown",
   "metadata": {},
   "source": [
    "となり"
   ]
  },
  {
   "cell_type": "markdown",
   "metadata": {},
   "source": [
    "$$\n",
    "    \\alpha_k = -\\frac{\\boldsymbol{t}_k \\cdot \\bar{H}_k \\nabla \\bar{f}_k}{\\boldsymbol{t}_k \\cdot \\bar{H}_k \\boldsymbol{t}_k}\n",
    "$$"
   ]
  },
  {
   "cell_type": "markdown",
   "metadata": {},
   "source": [
    "接線ベクトル$\\boldsymbol{t}_k$さえ、わかってしまえば、自動的に最適な直線探索が可能となるし、ヘッセ行列Hの逆行列を計算する必要がなくなる。-> 共役勾配法の原理"
   ]
  },
  {
   "cell_type": "markdown",
   "metadata": {},
   "source": [
    "加えて、kステップ目で求めた極値点$\\boldsymbol{x}_k$は、等高線関数の等高線に接しているので、k+1ステップ目の接線方向はkステップ目の探索直線の方向となっている"
   ]
  },
  {
   "cell_type": "markdown",
   "metadata": {},
   "source": [
    "したがって、以下がわかる\n",
    "$$\n",
    "\\boldsymbol{t}_k = \\boldsymbol{m}_{k-1}\n",
    "$$"
   ]
  },
  {
   "cell_type": "markdown",
   "metadata": {},
   "source": [
    "共役勾配法の反復公式\n",
    "$$\n",
    "    \\boldsymbol{m}_k = \\nabla \\bar{f}_k + \\alpha_k \\boldsymbol{m}_{k-1}\\\\\n",
    "    \\alpha_k = -\\frac{\\boldsymbol{t}_k \\cdot \\bar{H}_k \\nabla \\bar{f}_k}{\\boldsymbol{t}_k \\cdot \\bar{H}_k \\boldsymbol{m}_{k-1}}\\\\\n",
    "    \\boldsymbol{x}_{k+1} = \\boldsymbol{x}_k + \\boldsymbol{t}_k \\boldsymbol{m}_k\n",
    "$$\n",
    "ただし、初回は$\\alpha_0=0$とし、$\\boldsymbol{t}_0 \\cdot \\nabla \\bar{f}_0 = 0$"
   ]
  },
  {
   "cell_type": "markdown",
   "metadata": {},
   "source": [
    "共役勾配法の直線探索によって、2次近似等高線関数$f_{II}(\\boldsymbol{x})$の極値が求まるが、求めたいのは一般的な等高線関数$f{\\boldsymbol{x})$の極値だから、\n",
    "そのまま,一般的な等高線関数について直線探索を行えば良い。"
   ]
  },
  {
   "cell_type": "markdown",
   "metadata": {},
   "source": [
    "### 初期状態で接線ベクトルtって求まらないよね。。。"
   ]
  },
  {
   "cell_type": "code",
   "execution_count": null,
   "metadata": {},
   "outputs": [],
   "source": []
  }
 ],
 "metadata": {
  "kernelspec": {
   "display_name": "Python 3",
   "language": "python",
   "name": "python3"
  },
  "language_info": {
   "codemirror_mode": {
    "name": "ipython",
    "version": 3
   },
   "file_extension": ".py",
   "mimetype": "text/x-python",
   "name": "python",
   "nbconvert_exporter": "python",
   "pygments_lexer": "ipython3",
   "version": "3.6.9"
  }
 },
 "nbformat": 4,
 "nbformat_minor": 2
}
