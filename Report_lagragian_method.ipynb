{
 "cells": [
  {
   "cell_type": "markdown",
   "metadata": {},
   "source": [
    "# ラグランジュ未定乗数法"
   ]
  },
  {
   "cell_type": "markdown",
   "metadata": {},
   "source": [
    "$$\n",
    "    Min \\: f(\\boldsymbol{x})\\\\\n",
    "    s.t. g_1(\\boldsymbol{x})=0\\\\\n",
    "    \\quad\\; g_2(\\boldsymbol{x})=0\\\\\n",
    "    \\quad\\; \\vdots\\\\\n",
    "    \\quad\\; g_l(\\boldsymbol{x})=0\\\\\n",
    "    \\quad\\; h_1(\\boldsymbol{x})\\le0\\\\\n",
    "    \\quad\\; h_2(\\boldsymbol{x})\\le0\\\\\n",
    "    \\quad\\; \\vdots\\\\\n",
    "    \\quad\\; h_m(\\boldsymbol{x})\\le0\\\\\n",
    "$$  \n",
    "のとき，"
   ]
  },
  {
   "cell_type": "markdown",
   "metadata": {},
   "source": [
    "ラグランジュ関数  \n",
    "$$\n",
    "\\begin{align}\n",
    "    L(\\boldsymbol{x}, \\boldsymbol{\\lambda}, \\boldsymbol{\\mu}) &= f(\\boldsymbol{x}) \\\\\n",
    "    &+ \\lambda_{1}g_{1}(\\boldsymbol{x}) + \\lambda_{2}g_{2}(\\boldsymbol{x}) + \\cdots + \\lambda_{l}g_{l}(\\boldsymbol{x}) \\\\\n",
    "    &+ \\mu_{1}h_{1}(\\boldsymbol{x}) + \\mu_{2}h_{2}(\\boldsymbol{x}) + \\cdots + \\mu_{m}h_{m}(\\boldsymbol{x})\n",
    "\\end{align}\n",
    "$$"
   ]
  },
  {
   "cell_type": "markdown",
   "metadata": {},
   "source": [
    "ただし，新しい変数$\\boldsymbol{\\lambda}=(\\lambda_1, \\cdots, \\lambda_l)^{T}$と$\\boldsymbol{\\mu}=(\\mu_1, \\cdots, \\mu_m)^{T}$を導入して，"
   ]
  },
  {
   "cell_type": "markdown",
   "metadata": {},
   "source": [
    "最適化を$\\boldsymbol{x}^{*}$とすると，次を満たすような$\\lambda$,$\\mu$が存在する。"
   ]
  },
  {
   "cell_type": "markdown",
   "metadata": {},
   "source": [
    "未実装"
   ]
  },
  {
   "cell_type": "code",
   "execution_count": null,
   "metadata": {},
   "outputs": [],
   "source": []
  }
 ],
 "metadata": {
  "kernelspec": {
   "display_name": "Python 3",
   "language": "python",
   "name": "python3"
  },
  "language_info": {
   "codemirror_mode": {
    "name": "ipython",
    "version": 3
   },
   "file_extension": ".py",
   "mimetype": "text/x-python",
   "name": "python",
   "nbconvert_exporter": "python",
   "pygments_lexer": "ipython3",
   "version": "3.6.9"
  }
 },
 "nbformat": 4,
 "nbformat_minor": 2
}
