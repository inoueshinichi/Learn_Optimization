{
 "cells": [
  {
   "cell_type": "markdown",
   "metadata": {},
   "source": [
    "# 線形計画問題\n",
    "### （目的関数と制約式が全て線形）"
   ]
  },
  {
   "cell_type": "code",
   "execution_count": 1,
   "metadata": {},
   "outputs": [],
   "source": [
    "import numpy as np\n",
    "from scipy import optimize"
   ]
  },
  {
   "cell_type": "markdown",
   "metadata": {},
   "source": [
    "$$\n",
    "    Min\\: c^t\\boldsymbol{x} \\\\\n",
    "    s.t\\: \\boldsymbol{Ax} \\leqq \\boldsymbol{b} \\\\\n",
    "    \\quad\\:\\: \\boldsymbol{Gx} = \\boldsymbol{h}\n",
    "$$"
   ]
  },
  {
   "cell_type": "markdown",
   "metadata": {},
   "source": [
    "$$\n",
    "min \\ 3x+4y \\\\\n",
    "s.t. \\\\\n",
    "x+4y <= 1700 \\\\  \n",
    "2x+3y <= 1400 \\\\\n",
    "2x+3y <= 1000 \\\\\n",
    "x >= 0 \\\\\n",
    "y >= 0 \\\\\n",
    "$$"
   ]
  },
  {
   "cell_type": "markdown",
   "metadata": {},
   "source": [
    "scipy.optimizeのlinprog関数を使う"
   ]
  },
  {
   "cell_type": "code",
   "execution_count": 3,
   "metadata": {},
   "outputs": [
    {
     "name": "stdout",
     "output_type": "stream",
     "text": [
      "[399.99988463 199.99996114]\n",
      "-1999.9994984688606\n"
     ]
    }
   ],
   "source": [
    "c = np.array([-3, -4], dtype=np.float64)\n",
    "A = np.array([[1,4], [2,3], [2,1]], dtype=np.float64)\n",
    "b = np.array([1700, 1400, 1000], dtype=np.float64)\n",
    "sol = optimize.linprog(c, A_ub=A, b_ub=b, bounds=(0, None)) # (A_ub,b_ub), (A_eq, b_eq)\n",
    "\n",
    "print(sol.x)\n",
    "print(sol.fun)"
   ]
  },
  {
   "cell_type": "code",
   "execution_count": null,
   "metadata": {},
   "outputs": [],
   "source": []
  }
 ],
 "metadata": {
  "kernelspec": {
   "display_name": "Python 3",
   "language": "python",
   "name": "python3"
  },
  "language_info": {
   "codemirror_mode": {
    "name": "ipython",
    "version": 3
   },
   "file_extension": ".py",
   "mimetype": "text/x-python",
   "name": "python",
   "nbconvert_exporter": "python",
   "pygments_lexer": "ipython3",
   "version": "3.6.9"
  }
 },
 "nbformat": 4,
 "nbformat_minor": 2
}
