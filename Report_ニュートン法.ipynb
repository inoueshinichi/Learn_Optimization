{
 "cells": [
  {
   "cell_type": "markdown",
   "metadata": {},
   "source": [
    "# ニュートン法"
   ]
  },
  {
   "cell_type": "markdown",
   "metadata": {},
   "source": [
    "ニュートン法は与えられた方程式の解を数値的に求める手法。  \n",
    "最適化の問題でも導関数が0になる点を求めることはつまり最適値を求めることになるので，ニュートン法が利用できる場合がある。"
   ]
  },
  {
   "cell_type": "markdown",
   "metadata": {},
   "source": [
    "ニュートン法では初期値$x_0$から逐次$x_1, x_2, \\cdots$を解に近づけていく。  \n",
    "$y = f(x)$の$x = x_k$における接戦とx軸との交点を$x_{k+1}$とし，ある十分小さい値$\\epsilon$について，  \n",
    "$|x_{k+1} - x_k| \\leqq \\epsilon$となったら終了。(xが多次元の場合 $||x_{k+1} - x_k|| \\leqq \\epsilon$)"
   ]
  },
  {
   "cell_type": "markdown",
   "metadata": {},
   "source": [
    "$$\n",
    "    x_{k+1} = x_{k} - \\frac{f(x_k)}{f'(x_k)}\n",
    "$$"
   ]
  },
  {
   "cell_type": "markdown",
   "metadata": {},
   "source": [
    "$x^3 - 5x + 1 = 0$を求める"
   ]
  },
  {
   "cell_type": "code",
   "execution_count": 2,
   "metadata": {},
   "outputs": [],
   "source": [
    "def newton1dim(f, df, x0, eps=1e-10, max_iter=1000):\n",
    "    x = x0\n",
    "    iter = 0\n",
    "    while True:\n",
    "        x_new = x - f(x) / df(x)\n",
    "        if abs(x - x_new) <= eps:\n",
    "            break\n",
    "        x = x_new\n",
    "        iter += 1\n",
    "        if iter == max_iter:\n",
    "            break\n",
    "            \n",
    "    return x_new"
   ]
  },
  {
   "cell_type": "code",
   "execution_count": 7,
   "metadata": {},
   "outputs": [],
   "source": [
    "# 目的関数\n",
    "def f(x):\n",
    "    return x ** 3 - 5 * x + 1\n",
    "\n",
    "# 導関数\n",
    "def df(x):\n",
    "    return 3 * x ** 2 - 5"
   ]
  },
  {
   "cell_type": "markdown",
   "metadata": {},
   "source": [
    "ニュートン法は初期値に最も近いf(x)=0を満たす解xに向かって数値計算を行うことから，初期値によって解が異なる。"
   ]
  },
  {
   "cell_type": "code",
   "execution_count": 8,
   "metadata": {},
   "outputs": [
    {
     "data": {
      "text/plain": [
       "2.1284190638445777"
      ]
     },
     "execution_count": 8,
     "metadata": {},
     "output_type": "execute_result"
    }
   ],
   "source": [
    "newton1dim(f, df, 2) # 初期値 2"
   ]
  },
  {
   "cell_type": "code",
   "execution_count": 9,
   "metadata": {},
   "outputs": [
    {
     "data": {
      "text/plain": [
       "0.20163967572340463"
      ]
     },
     "execution_count": 9,
     "metadata": {},
     "output_type": "execute_result"
    }
   ],
   "source": [
    "newton1dim(f, df, 0) # 初期値 0"
   ]
  },
  {
   "cell_type": "code",
   "execution_count": 10,
   "metadata": {},
   "outputs": [
    {
     "data": {
      "text/plain": [
       "-2.330058739567982"
      ]
     },
     "execution_count": 10,
     "metadata": {},
     "output_type": "execute_result"
    }
   ],
   "source": [
    "newton1dim(f, df, -3) # 初期値 -3"
   ]
  },
  {
   "cell_type": "markdown",
   "metadata": {},
   "source": [
    "### 多次元に拡張できるニュートン法（関数f1=0とf2=0を満たす解$\\boldsymbol{x}$を求める）"
   ]
  },
  {
   "cell_type": "markdown",
   "metadata": {},
   "source": [
    "$$\n",
    "\\begin{cases}\n",
    "f_1(x,y) = x^3 - 2 = 0 \\\\\n",
    "f_2(x,y) = x^2 + y^2 - 1 = 0\n",
    "\\end{cases}\n",
    "$$\n",
    "\n",
    "$$\n",
    "f(\\boldsymbol{x}) = \n",
    "\\begin{pmatrix}\n",
    "f_1(\\boldsymbol{x}) \\\\\n",
    "f_2(\\boldsymbol{x})\n",
    "\\end{pmatrix}\n",
    "\\quad\n",
    "\\boldsymbol{x} = \n",
    "\\begin{pmatrix}\n",
    "x \\\\\n",
    "y\n",
    "\\end{pmatrix}\n",
    "$$\n",
    "\n",
    "$$\n",
    "ヤコビアン行列 \\quad J_f(\\boldsymbol{x}) = \n",
    "\\begin{pmatrix}\n",
    "\\frac{df_1}{dx}(\\boldsymbol{x}) & \\frac{df_1}{dy}(\\boldsymbol{x}) \\\\\n",
    "\\frac{df_2}{dx}(\\boldsymbol{x}) & \\frac{df_2}{dy}(\\boldsymbol{x})\n",
    "\\end{pmatrix}\n",
    "$$"
   ]
  },
  {
   "cell_type": "markdown",
   "metadata": {},
   "source": [
    "$$\n",
    "更新式 \\quad \\boldsymbol{x}_{k+1} = \\boldsymbol{x}_k - \\boldsymbol{J}_f(\\boldsymbol{x}_k)^{-1} f(\\boldsymbol{x}_k)\\\\\n",
    "収束条件 \\quad ||x_{k+1} - x_k|| \\leqq \\epsilon\n",
    "$$"
   ]
  },
  {
   "cell_type": "code",
   "execution_count": 11,
   "metadata": {},
   "outputs": [],
   "source": [
    "from numpy import linalg\n",
    "\n",
    "class Newton:\n",
    "    def __init__(self, f, df, eps=1e-10, max_iter=1000):\n",
    "        self.f_ = f\n",
    "        self.df_ = df\n",
    "        self.eps_ = eps\n",
    "        self.max_iter_ = max_iter\n",
    "        self.path_ = None\n",
    "        \n",
    "    def solve(self, x0):\n",
    "        x = x0\n",
    "        iter = 0\n",
    "        self.path_ = x0.reshape(1, -1)\n",
    "        \n",
    "        while True:\n",
    "            x_new = x - np.dot(linalg.inv(self.df_(x)), self.f_(x)) # ヤコビ行列 self.df_(x)\n",
    "            self.path_ = np.r_[self.path_, x_new.reshape(1, -1)]\n",
    "            \n",
    "            # 収束条件\n",
    "            if ((x - x_new)**2).sum() <= self.eps_ * self.eps_:\n",
    "                break\n",
    "            \n",
    "            x = x_new\n",
    "            iter += 1\n",
    "            if iter == self.max_iter_:\n",
    "                break\n",
    "                \n",
    "        return x_new"
   ]
  },
  {
   "cell_type": "code",
   "execution_count": 14,
   "metadata": {},
   "outputs": [],
   "source": [
    "# 目的関数1\n",
    "def f1(x,y):\n",
    "    return x**3 - 2*y\n",
    "\n",
    "# 目的関数2\n",
    "def f2(x,y):\n",
    "    return x**2 + y**2 - 1\n",
    "\n",
    "# 関数ベクトル\n",
    "def f(xx):\n",
    "    x = xx[0]\n",
    "    y = xx[1]\n",
    "    return np.array([f1(x,y), f2(x,y)])\n",
    "\n",
    "# ヤコビ行列\n",
    "def df(xx):\n",
    "    x = xx[0]\n",
    "    y = xx[1]\n",
    "    return np.array([[3*x**2, -2], [2*x, 2*y]])"
   ]
  },
  {
   "cell_type": "code",
   "execution_count": 17,
   "metadata": {},
   "outputs": [
    {
     "name": "stdout",
     "output_type": "stream",
     "text": [
      "[0.92071038 0.39024659]\n",
      "[-0.92071038 -0.39024659]\n",
      "[-0.92071038 -0.39024659]\n"
     ]
    },
    {
     "data": {
      "image/png": "[encoded data removed]",
      "text/plain": [
       "<Figure size 1152x576 with 1 Axes>"
      ]
     },
     "metadata": {
      "needs_background": "light"
     },
     "output_type": "display_data"
    }
   ],
   "source": [
    "import matplotlib.pyplot as plt\n",
    "import numpy as np\n",
    "\n",
    "xmin, xmax, ymin, ymax = -3, 3, -3, 3\n",
    "fig, ax = plt.subplots(figsize=(16, 8))\n",
    "ax.set_xlim([xmin, xmax])\n",
    "ax.set_ylim([ymin, ymax])\n",
    "x = np.linspace(xmin, xmax, 200)\n",
    "y = np.linspace(ymin, ymax, 200)\n",
    "xmesh, ymesh = np.meshgrid(x, y)\n",
    "z1 = f1(xmesh, ymesh)\n",
    "z2 = f2(xmesh, ymesh)\n",
    "ax.contour(xmesh, ymesh, z1, colors=\"r\", levels=[0]) # f_1(x)=0\n",
    "ax.contour(xmesh, ymesh, z2, colors=\"b\", levels=[0]) # f_2(x)=0\n",
    "\n",
    "solver = Newton(f, df)\n",
    "initials = [np.array([1,1]),\n",
    "           np.array([-1,-1]),\n",
    "           np.array([1,-1])]\n",
    "\n",
    "markers = [\"+\", \"*\", \"x\"]\n",
    "\n",
    "sols = []\n",
    "for x0, m in zip(initials, markers):\n",
    "    sol = solver.solve(x0)\n",
    "    ax.scatter(solver.path_[:, 0], solver.path_[:, 1], color=\"k\", marker=m)\n",
    "    sols.append(sol)\n",
    "    print(sol)\n",
    "    \n",
    "# 初期値\n",
    "for init_x, m in zip(initials, markers):\n",
    "    ax.plot(init_x[0], init_x[1], color=\"y\", marker=m)\n",
    "    \n",
    "\n",
    "# 数値計算解\n",
    "ax.scatter(sols[-1][0], sols[-1][1], color=\"g\")\n",
    "\n",
    "ax.set_title(\"f_1(x)=0 ^ f_2(x)=0 | solved x\")\n",
    "\n",
    "\n",
    "plt.show()"
   ]
  },
  {
   "cell_type": "markdown",
   "metadata": {},
   "source": [
    "### 最適化のためのニュートン法"
   ]
  },
  {
   "cell_type": "markdown",
   "metadata": {},
   "source": [
    "導関数$f^{'}(\\boldsymbol{x})=0$を解いて、関数$f(\\boldsymbol{x})$の最適値に対応する$\\boldsymbol{x}$を求めるために利用する"
   ]
  },
  {
   "cell_type": "markdown",
   "metadata": {},
   "source": [
    "だだし、一般に関数$f(\\boldsymbol{x})$は凸関数とは限らないので、テーラー展開をして2次の項までを利用した2次近似曲線に対して、極値を求めることになる."
   ]
  },
  {
   "cell_type": "markdown",
   "metadata": {},
   "source": [
    "最適値計算のためのニュートン法には,関数$f(\\boldsymbol{x})$の2次微分であるヘッセ行列$H(\\boldsymbol{x})$の計算が必要になる"
   ]
  },
  {
   "cell_type": "markdown",
   "metadata": {},
   "source": [
    "$$\n",
    "\\begin{align}\n",
    "    f_{II}(\\boldsymbol{x}) &= f(\\bar{\\boldsymbol{x}}) + \\sum_{i=1}^{n}\\frac{\\partial{\\bar{f}}}{\\partial{x_i}}(x_i - \\bar{x_i}) + \\frac{1}{2}\\sum_{i,j=1}^{n}\\frac{\\partial^{2}{\\bar{f}}}{\\partial{x_i}\\partial{x_j}}(x_i - \\bar{x_i})(x_j - \\bar{x_j}) \\\\\n",
    "    &= f(\\bar{\\boldsymbol{x}}) + \\nabla{\\bar{f}}(\\boldsymbol{x} - \\bar{\\boldsymbol{x}}) + \\frac{1}{2}(\\boldsymbol{x} - \\bar{\\boldsymbol{x}})\\bar{H}(\\boldsymbol{x} - \\bar{\\boldsymbol{x}})\n",
    "\\end{align}\n",
    "$$"
   ]
  },
  {
   "cell_type": "markdown",
   "metadata": {},
   "source": [
    "変数$x_i$について、偏微分すると\n",
    "$$\n",
    "    \\frac{\\partial{\\bar{f}}}{\\partial{x_i}} + \\sum_{j=1}^{n}\\frac{\\partial^{2}{\\bar{f}}}{\\partial{x_i}\\partial{x_j}}(x_i - \\bar{x_i}) = 0\n",
    "$$"
   ]
  },
  {
   "cell_type": "markdown",
   "metadata": {},
   "source": [
    "変数$\\boldsymbol{x}=(x_1, x_2,\\cdots, x_n)$について縦ベクトルとして並べると\n",
    "$$\n",
    "\\bar{H}(\\boldsymbol{x} - \\bar{\\boldsymbol{x}}) = - \\nabla \\bar{f}\n",
    "$$"
   ]
  },
  {
   "cell_type": "markdown",
   "metadata": {},
   "source": [
    "ヘッセ行列\n",
    "$$\n",
    "\\begin{align}\n",
    "    H(\\boldsymbol{x}) &= \\nabla f^{'}(\\boldsymbol{x}) \\\\\n",
    "    &= \\nabla\n",
    "    \\begin{pmatrix}\n",
    "        \\frac{\\partial{f}}{\\partial{x_1}} \\\\\n",
    "        \\vdots \\\\\n",
    "        \\frac{\\partial{f}}{\\partial{x_n}} \\\\\n",
    "    \\end{pmatrix} \\\\\n",
    "    &= \\begin{pmatrix}\n",
    "            \\frac{\\partial^{2}{f}}{\\partial{x_1}^{2}} & \\ldots & \\frac{\\partial^{2}{f}}{\\partial{x_1}{x_n}} \\\\\n",
    "            \\vdots & \\ddots & \\vdots \\\\\n",
    "            \\frac{\\partial^{2}{f}}{\\partial{x_n}{x_1}} & \\ldots & \\frac{\\partial^{2}{f}}{\\partial{x_n}^{2}} \\\\\n",
    "    \\end{pmatrix}\n",
    "\\end{align}\n",
    "$$"
   ]
  },
  {
   "cell_type": "markdown",
   "metadata": {},
   "source": [
    "更新式\n",
    "$$\n",
    "    \\boldsymbol{x}_{k+1} = \\boldsymbol{x}_{k} - H(\\boldsymbol{x})^{-1} \\nabla f(\\boldsymbol{x})\n",
    "$$"
   ]
  },
  {
   "cell_type": "markdown",
   "metadata": {},
   "source": [
    "ただし、ニュートン法は、ヘッセ行列が計算できて$H(\\bar{\\boldsymbol{x}})$が正則である必要がある"
   ]
  },
  {
   "cell_type": "code",
   "execution_count": 19,
   "metadata": {},
   "outputs": [],
   "source": [
    "import scipy as sp\n",
    "\n",
    "class Newton2:\n",
    "    \n",
    "    def __init__(self, df, H, eps=1e-10, max_iter=1000):\n",
    "        \n",
    "        # 1次微分:勾配ベクトル(関数)\n",
    "        self.df = df\n",
    "        # 2次微分:ヘッセ行列(関数)\n",
    "        self.H = H\n",
    "        \n",
    "        self.eps = eps\n",
    "        self.max_iter = max_iter\n",
    "        self.path = None\n",
    "        \n",
    "    def solve(self, init_x):\n",
    "        x = init_x\n",
    "        iter = 0\n",
    "        self.path = init_x.reshape(1, -1)\n",
    "        \n",
    "        while True:\n",
    "            try:\n",
    "                # ヘッセ行列の正則性チェック\n",
    "                determinant = np.linalg.det(self.H(x))\n",
    "                if determinant == 0:\n",
    "                    raise ValueError(\"Hesse matrix is irregular matrix.\")\n",
    "                    \n",
    "                # 逆行列を直接求めて、更新式で更新\n",
    "                #x_new = x - linalg.inv(self.H(x)) @ self.df(x)\n",
    "                \n",
    "                # 更新式は連立1次方程式の解を使って行うほうが高速かつ安定\n",
    "                #hesse_mat = self.H(x)\n",
    "                #grad = self.df(x)\n",
    "                #x_delta = np.linalg.solve(hesse_mat, -grad) # 連立1次方程式の解\n",
    "                #x_new = x + x_delta\n",
    "                \n",
    "                # LU分解を使って連立1次方程式の解を求めるほうが、もっと高速かつ安定と思われ\n",
    "                hesse_mat = self.H(x)\n",
    "                grad = self.df(x)\n",
    "                lu, p = sp.linalg.lu_factor(hesse_mat) # LU分解\n",
    "                x_delta = sp.linalg.lu_solve((lu, p), -grad)\n",
    "                x_new = x + x_delta\n",
    "                \n",
    "                # 更新値\n",
    "                self.path = np.r_[self.path, x_new.reshape(1, -1)]\n",
    "                \n",
    "                # 収束条件\n",
    "                if ((x - x_new) ** 2).sum() <= self.eps ** 2:\n",
    "                    break\n",
    "                    \n",
    "                x = x_new\n",
    "                    \n",
    "                iter += 1\n",
    "                if iter == self.max_iter:\n",
    "                    break\n",
    "                \n",
    "            except ValueError as e:\n",
    "                print(e.args[0])\n",
    "                print(\"Terminate Newton method.\")\n",
    "                x_new = None\n",
    "                break\n",
    "            "
   ]
  },
  {
   "cell_type": "code",
   "execution_count": null,
   "metadata": {},
   "outputs": [],
   "source": []
  }
 ],
 "metadata": {
  "kernelspec": {
   "display_name": "Python 3",
   "language": "python",
   "name": "python3"
  },
  "language_info": {
   "codemirror_mode": {
    "name": "ipython",
    "version": 3
   },
   "file_extension": ".py",
   "mimetype": "text/x-python",
   "name": "python",
   "nbconvert_exporter": "python",
   "pygments_lexer": "ipython3",
   "version": "3.6.9"
  }
 },
 "nbformat": 4,
 "nbformat_minor": 2
}
