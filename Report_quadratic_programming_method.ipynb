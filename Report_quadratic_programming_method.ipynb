{
 "cells": [
  {
   "cell_type": "markdown",
   "metadata": {},
   "source": [
    "# 2次計画法(QP)"
   ]
  },
  {
   "cell_type": "markdown",
   "metadata": {},
   "source": [
    "### 2次式を含む最適化"
   ]
  },
  {
   "cell_type": "markdown",
   "metadata": {},
   "source": [
    "$$\n",
    "    Min \\ \\frac{1}{2}\\boldsymbol{x^T}\\boldsymbol{P}\\boldsymbol{x}+\\boldsymbol{q^T}\\boldsymbol{x} \\\\\n",
    "    s.t \\ \\boldsymbol{Ax}=\\boldsymbol{b} \\\\\n",
    "    \\quad \\boldsymbol{Gx} \\leqq \\boldsymbol{h}\n",
    "$$"
   ]
  },
  {
   "cell_type": "markdown",
   "metadata": {},
   "source": [
    "対象となる多変数2次関数  \n",
    "$$\n",
    "\\begin{align}\n",
    "    f(x,y) &= x^{2} + xy + y^{2} + 2x + 4y \\\\\n",
    "    &= \\frac{1}{2}\n",
    "    \\begin{pmatrix}x & y\\end{pmatrix}\n",
    "    \\begin{pmatrix}2 & 1\\\\ 1 & 2\\end{pmatrix}\n",
    "    \\begin{pmatrix}x \\\\ y\\end{pmatrix}\n",
    "    + \n",
    "    \\begin{pmatrix}2 & 4\\end{pmatrix}\n",
    "    \\begin{pmatrix}x \\\\ y\\end{pmatrix}\n",
    "\\end{align}\n",
    "$$"
   ]
  },
  {
   "cell_type": "markdown",
   "metadata": {},
   "source": [
    "$$\n",
    "Min \\ f(x,y) = x^2 + xy + y^2 + 2x + 4y \\\\\n",
    "s.t \\ x + y = 0\n",
    "$$"
   ]
  },
  {
   "cell_type": "markdown",
   "metadata": {},
   "source": [
    "cvxopt.solvers.qp関数を使う"
   ]
  },
  {
   "cell_type": "code",
   "execution_count": 2,
   "metadata": {},
   "outputs": [
    {
     "name": "stdout",
     "output_type": "stream",
     "text": [
      "[[ 1.]\n",
      " [-1.]]\n",
      "-1.0000000000000016\n"
     ]
    }
   ],
   "source": [
    "import cvxopt\n",
    "import numpy as np\n",
    "\n",
    "P = cvxopt.matrix(np.array([[2,1], [1,2]], dtype=np.float64))\n",
    "q = cvxopt.matrix(np.array([2,4], dtype=np.float64))\n",
    "A = cvxopt.matrix(np.array([[1,1]], dtype=np.float64))\n",
    "b = cvxopt.matrix(np.array([0], dtype=np.float64))\n",
    "\n",
    "sol = cvxopt.solvers.qp(P, q, A=A, b=b)\n",
    "\n",
    "print(np.array(sol[\"x\"]))\n",
    "print(np.array(sol[\"primal objective\"]))"
   ]
  },
  {
   "cell_type": "markdown",
   "metadata": {},
   "source": []
  },
  {
   "cell_type": "markdown",
   "metadata": {},
   "source": [
    "$$\n",
    "Min \\ f(x,y) = x^2 + xy + y^2 + 2x + 4y \\\\\n",
    "s.t. \\ 2x + 3y \\leqq 3\n",
    "$$"
   ]
  },
  {
   "cell_type": "code",
   "execution_count": 3,
   "metadata": {},
   "outputs": [
    {
     "name": "stdout",
     "output_type": "stream",
     "text": [
      "     pcost       dcost       gap    pres   dres\n",
      " 0:  1.8858e+00  2.9758e-01  2e+00  5e-18  2e+00\n",
      " 1: -2.1066e+00 -2.1546e+00  5e-02  2e-16  7e-01\n",
      " 2: -3.9999e+00 -4.0665e+00  7e-02  3e-16  2e-16\n",
      " 3: -4.0000e+00 -4.0007e+00  7e-04  1e-15  1e-16\n",
      " 4: -4.0000e+00 -4.0000e+00  7e-06  3e-16  6e-17\n",
      " 5: -4.0000e+00 -4.0000e+00  7e-08  9e-16  2e-16\n",
      "Optimal solution found.\n",
      "[[-2.45940172e-09]\n",
      " [-2.00000001e+00]]\n",
      "-4.0\n"
     ]
    }
   ],
   "source": [
    "P = cvxopt.matrix(np.array([[2,1], [1,2]], dtype=np.float64))\n",
    "q = cvxopt.matrix(np.array([2,4], dtype=np.float64))\n",
    "G = cvxopt.matrix(np.array([[2,3]], dtype=np.float64))\n",
    "h = cvxopt.matrix(np.array([3], dtype=np.float64))\n",
    "\n",
    "sol = cvxopt.solvers.qp(P, q, G=G, h=h)\n",
    "\n",
    "print(np.array(sol[\"x\"]))\n",
    "print(np.array(sol[\"primal objective\"]))"
   ]
  },
  {
   "cell_type": "code",
   "execution_count": null,
   "metadata": {},
   "outputs": [],
   "source": []
  }
 ],
 "metadata": {
  "kernelspec": {
   "display_name": "Python 3",
   "language": "python",
   "name": "python3"
  },
  "language_info": {
   "codemirror_mode": {
    "name": "ipython",
    "version": 3
   },
   "file_extension": ".py",
   "mimetype": "text/x-python",
   "name": "python",
   "nbconvert_exporter": "python",
   "pygments_lexer": "ipython3",
   "version": "3.6.9"
  }
 },
 "nbformat": 4,
 "nbformat_minor": 2
}
